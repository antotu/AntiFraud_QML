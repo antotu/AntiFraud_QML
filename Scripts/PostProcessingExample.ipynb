{
 "cells": [
  {
   "cell_type": "code",
   "execution_count": 92,
   "id": "cb7d3b3a",
   "metadata": {},
   "outputs": [],
   "source": [
    "# Breast classification \n",
    "import pandas as pd\n",
    "import torch\n",
    "from VQCStronglyEntanglingModel import VQCStronglyEntanglingModel\n",
    "\n",
    "# Load data and preprocessing\n",
    "\n",
    "from sklearn.preprocessing import OrdinalEncoder\n",
    "from sklearn.preprocessing import MinMaxScaler\n",
    "\n",
    "import torch\n",
    "import pandas as pd\n",
    "from torch import nn\n",
    "import numpy as np\n",
    "from sklearn.model_selection import train_test_split\n",
    "from sklearn.preprocessing import OrdinalEncoder\n",
    "from sklearn.preprocessing import MinMaxScaler\n",
    "from torch.utils.data import DataLoader\n",
    "from tqdm.auto import tqdm\n",
    "import requests\n",
    "import telegram_send\n",
    "import sys"
   ]
  },
  {
   "cell_type": "code",
   "execution_count": 93,
   "id": "4b08c1b8",
   "metadata": {},
   "outputs": [],
   "source": [
    "numElements = 1000\n",
    "numFeatures = 2\n",
    "encoding = \"XY\"\n",
    "numLayers = 4\n",
    "reup = True\n",
    "\n",
    "X_train = pd.read_csv(f\"../ReducedDataset/Train_{numElements}_{numFeatures}.csv\", header=None, index_col=False)\n",
    "X_test = pd.read_csv(f\"../ReducedDataset/Test_{numElements}_{numFeatures}.csv\", header=None, index_col=False)\n",
    "y_train = X_train.pop(2)\n",
    "y_test = X_test.pop(2)\n",
    "y_train = torch.from_numpy(np.array(y_train)).type(torch.float)\n",
    "y_test = torch.from_numpy(np.array(y_test)).type(torch.float)\n",
    "\n",
    "minmaxScaler = MinMaxScaler(feature_range=(-1, 1))\n",
    "\n",
    "X_train = minmaxScaler.fit_transform(X_train)\n",
    "X_test = minmaxScaler.transform(X_test)\n",
    "\n",
    "\n",
    "numWires = X_train.shape[1]\n",
    "\n",
    "X_train = torch.from_numpy(X_train).type(torch.float)\n",
    "X_test = torch.from_numpy(X_test).type(torch.float)\n",
    "train_tensor = torch.utils.data.TensorDataset(X_train, y_train)\n",
    "test_tensor = torch.utils.data.TensorDataset(X_test, y_test)\n",
    "\n",
    "\n",
    "BATCH_SIZE = 2\n",
    "\n",
    "train_dataloader = DataLoader(train_tensor, \n",
    "                              batch_size=BATCH_SIZE,\n",
    "                              shuffle=True)\n",
    "\n",
    "\n",
    "test_dataloader = DataLoader(test_tensor, \n",
    "                              batch_size=BATCH_SIZE,\n",
    "                              shuffle=False)"
   ]
  },
  {
   "cell_type": "code",
   "execution_count": 94,
   "id": "09d607ab",
   "metadata": {},
   "outputs": [],
   "source": [
    "MODEL_SAVE_PATH = f\"Strongly_{numElements}_{numFeatures}_{encoding}_{numLayers}_{reup}.pth\""
   ]
  },
  {
   "cell_type": "code",
   "execution_count": 95,
   "id": "0ef38823",
   "metadata": {},
   "outputs": [],
   "source": [
    "# define the model class\n",
    "class FraudDetection(nn.Module):\n",
    "    # parameters which can be set:\n",
    "    # numLayerStrongly (int) : set the number of layer for stronglyEntangling ansatz for the VQC model\n",
    "    # encoding (str): set the type of encoding to use (accepted \"angle\" or \"amplitude\")\n",
    "    # gates (str): set the type of encoding gates used for the VQC  \n",
    "    def __init__(self,\n",
    "                numWires : int,\n",
    "                numLayerStrongly: int,\n",
    "                encoding: str,\n",
    "                gates: str,\n",
    "                reuploading: bool):\n",
    "        super().__init__()\n",
    "        # for the VQC, the number of classes is fixed to 2 considering the binary classification\n",
    "        # the number of wires is equal to 5 resulting input vector is composed of 5 elements\n",
    "        # reuploading in this case is not applied\n",
    "        self.layer1 = VQCStronglyEntanglingModel(\n",
    "            encoding=encoding,\n",
    "            numLayerStrongly=numLayerStrongly,\n",
    "            numClasses=2,\n",
    "            numWires=numWires,\n",
    "            gates=gates,\n",
    "            reUploading=reuploading\n",
    "        )\n",
    "    # the input vector is firstly passed to the Kernel module and then to the VQC\n",
    "    def forward(self,x):\n",
    "        return self.layer1(x)"
   ]
  },
  {
   "cell_type": "code",
   "execution_count": 96,
   "id": "22e37c96",
   "metadata": {},
   "outputs": [],
   "source": [
    "model_0 = FraudDetection(\n",
    "    numWires=numWires,\n",
    "    numLayerStrongly = numLayers,\n",
    "    encoding = \"angle\",\n",
    "    gates=encoding,\n",
    "    reuploading=reup\n",
    ")"
   ]
  },
  {
   "cell_type": "code",
   "execution_count": 97,
   "id": "e46760fe",
   "metadata": {},
   "outputs": [
    {
     "data": {
      "text/plain": [
       "<All keys matched successfully>"
      ]
     },
     "execution_count": 97,
     "metadata": {},
     "output_type": "execute_result"
    }
   ],
   "source": [
    "model_0.load_state_dict(torch.load(f=MODEL_SAVE_PATH))"
   ]
  },
  {
   "cell_type": "code",
   "execution_count": 98,
   "id": "ff876422",
   "metadata": {},
   "outputs": [],
   "source": [
    "def conf_matrix(y_true, y_pred):\n",
    "    res = np.zeros((2, 2))\n",
    "    for pred, true in zip(y_pred, y_true):\n",
    "        if true == 0 and pred == 0:\n",
    "            res[0][0] += 1\n",
    "        elif true == 1 and pred == 1:\n",
    "            res[1][1] += 1\n",
    "        elif true == 0 and pred == 1:\n",
    "            res[0][1] += 1\n",
    "        else:\n",
    "            res[1][0] += 1\n",
    "    return res"
   ]
  },
  {
   "cell_type": "code",
   "execution_count": 122,
   "id": "5db79351",
   "metadata": {},
   "outputs": [
    {
     "data": {
      "text/plain": [
       "array([[  0., 881.],\n",
       "       [  0.,  19.]])"
      ]
     },
     "execution_count": 122,
     "metadata": {},
     "output_type": "execute_result"
    }
   ],
   "source": [
    "\n",
    "confMatrixTest = np.zeros((2,2))\n",
    "with torch.inference_mode():\n",
    "    for X_train, y_train in train_dataloader:\n",
    "        test_logits = model_0(X_test).squeeze()\n",
    "        test_pred = torch.sigmoid(test_logits)\n",
    "        test_pred = np.array([1 if p >= 0.015 else 0 for p in test_pred])\n",
    "        confMatrixTest += conf_matrix(y_pred=test_pred, y_true=y_train.numpy())\n",
    "confMatrixTest"
   ]
  },
  {
   "cell_type": "code",
   "execution_count": null,
   "id": "d8eecbf6",
   "metadata": {},
   "outputs": [],
   "source": []
  },
  {
   "cell_type": "code",
   "execution_count": null,
   "id": "2edfadb7",
   "metadata": {},
   "outputs": [],
   "source": []
  }
 ],
 "metadata": {
  "kernelspec": {
   "display_name": "Python 3 (ipykernel)",
   "language": "python",
   "name": "python3"
  },
  "language_info": {
   "codemirror_mode": {
    "name": "ipython",
    "version": 3
   },
   "file_extension": ".py",
   "mimetype": "text/x-python",
   "name": "python",
   "nbconvert_exporter": "python",
   "pygments_lexer": "ipython3",
   "version": "3.10.9"
  }
 },
 "nbformat": 4,
 "nbformat_minor": 5
}
